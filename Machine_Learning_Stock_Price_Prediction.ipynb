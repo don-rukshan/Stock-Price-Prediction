{
  "nbformat": 4,
  "nbformat_minor": 0,
  "metadata": {
    "colab": {
      "name": "Machine Learning Stock Price Prediction.ipynb",
      "provenance": [],
      "collapsed_sections": [],
      "authorship_tag": "ABX9TyMoNgiwgFP0S0g0oxtpf83c",
      "include_colab_link": true
    },
    "kernelspec": {
      "name": "python3",
      "display_name": "Python 3"
    }
  },
  "cells": [
    {
      "cell_type": "markdown",
      "metadata": {
        "id": "view-in-github",
        "colab_type": "text"
      },
      "source": [
        "<a href=\"https://colab.research.google.com/github/don-rukshan/Stock-Price-Prediction/blob/master/Machine_Learning_Stock_Price_Prediction.ipynb\" target=\"_parent\"><img src=\"https://colab.research.google.com/assets/colab-badge.svg\" alt=\"Open In Colab\"/></a>"
      ]
    },
    {
      "cell_type": "code",
      "metadata": {
        "id": "28vxpQHIWC3h",
        "colab_type": "code",
        "colab": {}
      },
      "source": [
        "# Description : This program uses an artificial recurrent neural netowrk called Long Short Term Memory (LSTM)\n",
        "# to predict the closing stock price of a corporation (Apple Inc) using the past 100 day stock price."
      ],
      "execution_count": 0,
      "outputs": []
    },
    {
      "cell_type": "code",
      "metadata": {
        "id": "jMzdpDeCXbkX",
        "colab_type": "code",
        "outputId": "a3ec9faa-b749-41f6-9e25-66c3cfb152ce",
        "colab": {
          "base_uri": "https://localhost:8080/",
          "height": 83
        }
      },
      "source": [
        "# Import the libraries\n",
        "\n",
        "import math\n",
        "import pandas_datareader as web\n",
        "import numpy as np\n",
        "import pandas as pd\n",
        "from sklearn.preprocessing import MinMaxScaler\n",
        "from keras.models import Sequential\n",
        "from keras.layers import Dense, LSTM\n",
        "import matplotlib.pyplot as plt\n",
        "import pylab\n",
        "plt.style.use('fivethirtyeight')"
      ],
      "execution_count": 0,
      "outputs": [
        {
          "output_type": "stream",
          "text": [
            "Using TensorFlow backend.\n"
          ],
          "name": "stderr"
        },
        {
          "output_type": "display_data",
          "data": {
            "text/html": [
              "<p style=\"color: red;\">\n",
              "The default version of TensorFlow in Colab will soon switch to TensorFlow 2.x.<br>\n",
              "We recommend you <a href=\"https://www.tensorflow.org/guide/migrate\" target=\"_blank\">upgrade</a> now \n",
              "or ensure your notebook will continue to use TensorFlow 1.x via the <code>%tensorflow_version 1.x</code> magic:\n",
              "<a href=\"https://colab.research.google.com/notebooks/tensorflow_version.ipynb\" target=\"_blank\">more info</a>.</p>\n"
            ],
            "text/plain": [
              "<IPython.core.display.HTML object>"
            ]
          },
          "metadata": {
            "tags": []
          }
        }
      ]
    },
    {
      "cell_type": "code",
      "metadata": {
        "id": "8zj3rtgaYrXe",
        "colab_type": "code",
        "outputId": "6254ea93-7c1e-4bcb-b486-3672786b4247",
        "colab": {
          "base_uri": "https://localhost:8080/",
          "height": 455
        }
      },
      "source": [
        "# Get the stock quote\n",
        "\n",
        "df = web.DataReader('AAPL', data_source= 'yahoo', start='2012-01-01', end = '2019-12-17')\n",
        "df"
      ],
      "execution_count": 0,
      "outputs": [
        {
          "output_type": "execute_result",
          "data": {
            "text/html": [
              "<div>\n",
              "<style scoped>\n",
              "    .dataframe tbody tr th:only-of-type {\n",
              "        vertical-align: middle;\n",
              "    }\n",
              "\n",
              "    .dataframe tbody tr th {\n",
              "        vertical-align: top;\n",
              "    }\n",
              "\n",
              "    .dataframe thead th {\n",
              "        text-align: right;\n",
              "    }\n",
              "</style>\n",
              "<table border=\"1\" class=\"dataframe\">\n",
              "  <thead>\n",
              "    <tr style=\"text-align: right;\">\n",
              "      <th></th>\n",
              "      <th>High</th>\n",
              "      <th>Low</th>\n",
              "      <th>Open</th>\n",
              "      <th>Close</th>\n",
              "      <th>Volume</th>\n",
              "      <th>Adj Close</th>\n",
              "    </tr>\n",
              "    <tr>\n",
              "      <th>Date</th>\n",
              "      <th></th>\n",
              "      <th></th>\n",
              "      <th></th>\n",
              "      <th></th>\n",
              "      <th></th>\n",
              "      <th></th>\n",
              "    </tr>\n",
              "  </thead>\n",
              "  <tbody>\n",
              "    <tr>\n",
              "      <th>2012-01-03</th>\n",
              "      <td>58.928570</td>\n",
              "      <td>58.428570</td>\n",
              "      <td>58.485714</td>\n",
              "      <td>58.747143</td>\n",
              "      <td>75555200.0</td>\n",
              "      <td>51.115936</td>\n",
              "    </tr>\n",
              "    <tr>\n",
              "      <th>2012-01-04</th>\n",
              "      <td>59.240002</td>\n",
              "      <td>58.468571</td>\n",
              "      <td>58.571430</td>\n",
              "      <td>59.062859</td>\n",
              "      <td>65005500.0</td>\n",
              "      <td>51.390648</td>\n",
              "    </tr>\n",
              "    <tr>\n",
              "      <th>2012-01-05</th>\n",
              "      <td>59.792858</td>\n",
              "      <td>58.952858</td>\n",
              "      <td>59.278572</td>\n",
              "      <td>59.718571</td>\n",
              "      <td>67817400.0</td>\n",
              "      <td>51.961189</td>\n",
              "    </tr>\n",
              "    <tr>\n",
              "      <th>2012-01-06</th>\n",
              "      <td>60.392857</td>\n",
              "      <td>59.888573</td>\n",
              "      <td>59.967144</td>\n",
              "      <td>60.342857</td>\n",
              "      <td>79573200.0</td>\n",
              "      <td>52.504375</td>\n",
              "    </tr>\n",
              "    <tr>\n",
              "      <th>2012-01-09</th>\n",
              "      <td>61.107143</td>\n",
              "      <td>60.192856</td>\n",
              "      <td>60.785713</td>\n",
              "      <td>60.247143</td>\n",
              "      <td>98506100.0</td>\n",
              "      <td>52.421093</td>\n",
              "    </tr>\n",
              "    <tr>\n",
              "      <th>...</th>\n",
              "      <td>...</td>\n",
              "      <td>...</td>\n",
              "      <td>...</td>\n",
              "      <td>...</td>\n",
              "      <td>...</td>\n",
              "      <td>...</td>\n",
              "    </tr>\n",
              "    <tr>\n",
              "      <th>2019-12-11</th>\n",
              "      <td>271.100006</td>\n",
              "      <td>268.500000</td>\n",
              "      <td>268.809998</td>\n",
              "      <td>270.769989</td>\n",
              "      <td>19689200.0</td>\n",
              "      <td>270.769989</td>\n",
              "    </tr>\n",
              "    <tr>\n",
              "      <th>2019-12-12</th>\n",
              "      <td>272.559998</td>\n",
              "      <td>267.320007</td>\n",
              "      <td>267.779999</td>\n",
              "      <td>271.459991</td>\n",
              "      <td>34327600.0</td>\n",
              "      <td>271.459991</td>\n",
              "    </tr>\n",
              "    <tr>\n",
              "      <th>2019-12-13</th>\n",
              "      <td>275.299988</td>\n",
              "      <td>270.929993</td>\n",
              "      <td>271.459991</td>\n",
              "      <td>275.149994</td>\n",
              "      <td>33396900.0</td>\n",
              "      <td>275.149994</td>\n",
              "    </tr>\n",
              "    <tr>\n",
              "      <th>2019-12-16</th>\n",
              "      <td>280.790009</td>\n",
              "      <td>276.980011</td>\n",
              "      <td>277.000000</td>\n",
              "      <td>279.859985</td>\n",
              "      <td>32046500.0</td>\n",
              "      <td>279.859985</td>\n",
              "    </tr>\n",
              "    <tr>\n",
              "      <th>2019-12-17</th>\n",
              "      <td>281.769989</td>\n",
              "      <td>278.799988</td>\n",
              "      <td>279.570007</td>\n",
              "      <td>280.410004</td>\n",
              "      <td>28539600.0</td>\n",
              "      <td>280.410004</td>\n",
              "    </tr>\n",
              "  </tbody>\n",
              "</table>\n",
              "<p>2003 rows × 6 columns</p>\n",
              "</div>"
            ],
            "text/plain": [
              "                  High         Low  ...      Volume   Adj Close\n",
              "Date                                ...                        \n",
              "2012-01-03   58.928570   58.428570  ...  75555200.0   51.115936\n",
              "2012-01-04   59.240002   58.468571  ...  65005500.0   51.390648\n",
              "2012-01-05   59.792858   58.952858  ...  67817400.0   51.961189\n",
              "2012-01-06   60.392857   59.888573  ...  79573200.0   52.504375\n",
              "2012-01-09   61.107143   60.192856  ...  98506100.0   52.421093\n",
              "...                ...         ...  ...         ...         ...\n",
              "2019-12-11  271.100006  268.500000  ...  19689200.0  270.769989\n",
              "2019-12-12  272.559998  267.320007  ...  34327600.0  271.459991\n",
              "2019-12-13  275.299988  270.929993  ...  33396900.0  275.149994\n",
              "2019-12-16  280.790009  276.980011  ...  32046500.0  279.859985\n",
              "2019-12-17  281.769989  278.799988  ...  28539600.0  280.410004\n",
              "\n",
              "[2003 rows x 6 columns]"
            ]
          },
          "metadata": {
            "tags": []
          },
          "execution_count": 3
        }
      ]
    },
    {
      "cell_type": "code",
      "metadata": {
        "id": "bM2c344LZfhp",
        "colab_type": "code",
        "outputId": "7c3aaed0-ff33-4b38-eaf0-87bbb3b7f0d1",
        "colab": {
          "base_uri": "https://localhost:8080/",
          "height": 35
        }
      },
      "source": [
        "# Get the number of rows and columns in the data set\n",
        "df.shape"
      ],
      "execution_count": 0,
      "outputs": [
        {
          "output_type": "execute_result",
          "data": {
            "text/plain": [
              "(2003, 6)"
            ]
          },
          "metadata": {
            "tags": []
          },
          "execution_count": 4
        }
      ]
    },
    {
      "cell_type": "code",
      "metadata": {
        "id": "WO-A_ScxZroC",
        "colab_type": "code",
        "outputId": "7b6ba98b-daf4-4b9e-804e-0b0bc4596138",
        "colab": {
          "base_uri": "https://localhost:8080/",
          "height": 688
        }
      },
      "source": [
        "# Visualize the closing price history\n",
        "\n",
        "plt.figure(figsize=(16,8))\n",
        "plt.title('Close Price History')\n",
        "plt.plot(df['Close'])\n",
        "plt.xlabel('Date', fontsize=18)\n",
        "plt.ylabel('Close Price USD ($)', fontsize=18)\n",
        "plt.show()"
      ],
      "execution_count": 0,
      "outputs": [
        {
          "output_type": "stream",
          "text": [
            "/usr/local/lib/python3.6/dist-packages/pandas/plotting/_matplotlib/converter.py:103: FutureWarning: Using an implicitly registered datetime converter for a matplotlib plotting method. The converter was registered by pandas on import. Future versions of pandas will require you to explicitly register matplotlib converters.\n",
            "\n",
            "To register the converters:\n",
            "\t>>> from pandas.plotting import register_matplotlib_converters\n",
            "\t>>> register_matplotlib_converters()\n",
            "  warnings.warn(msg, FutureWarning)\n"
          ],
          "name": "stderr"
        },
        {
          "output_type": "display_data",
          "data": {
            "image/png": "[encoded data removed]",
            "text/plain": [
              "<Figure size 1152x576 with 1 Axes>"
            ]
          },
          "metadata": {
            "tags": []
          }
        }
      ]
    },
    {
      "cell_type": "code",
      "metadata": {
        "id": "cFke8jdViHyj",
        "colab_type": "code",
        "outputId": "3ba069f1-fed1-49ae-d5bf-630cc27a7e29",
        "colab": {
          "base_uri": "https://localhost:8080/",
          "height": 35
        }
      },
      "source": [
        "# Create a new dataframe with only the Close column\n",
        "data = df.filter(['Close'])\n",
        "# Convert the dateframe to a numpy array\n",
        "dataset = data.values\n",
        "#Get the number of rows to train the model on\n",
        "training_data_len = math.ceil(len(dataset) * 0.8)\n",
        "\n",
        "training_data_len"
      ],
      "execution_count": 0,
      "outputs": [
        {
          "output_type": "execute_result",
          "data": {
            "text/plain": [
              "1603"
            ]
          },
          "metadata": {
            "tags": []
          },
          "execution_count": 6
        }
      ]
    },
    {
      "cell_type": "code",
      "metadata": {
        "id": "_1MM0B1-i1yF",
        "colab_type": "code",
        "outputId": "6e2c955f-b49e-460e-a7b2-409188105833",
        "colab": {
          "base_uri": "https://localhost:8080/",
          "height": 146
        }
      },
      "source": [
        "#Scale the data\n",
        "scaler = MinMaxScaler(feature_range=(0,1))\n",
        "scaled_data = scaler.fit_transform(dataset)\n",
        "\n",
        "scaled_data"
      ],
      "execution_count": 0,
      "outputs": [
        {
          "output_type": "execute_result",
          "data": {
            "text/plain": [
              "array([[0.01316509],\n",
              "       [0.01457064],\n",
              "       [0.01748985],\n",
              "       ...,\n",
              "       [0.97658263],\n",
              "       [0.99755134],\n",
              "       [1.        ]])"
            ]
          },
          "metadata": {
            "tags": []
          },
          "execution_count": 7
        }
      ]
    },
    {
      "cell_type": "code",
      "metadata": {
        "id": "v_eFY0g2jS7r",
        "colab_type": "code",
        "outputId": "1bbb162c-857a-454f-b5ff-ee8f67859075",
        "colab": {
          "base_uri": "https://localhost:8080/",
          "height": 1000
        }
      },
      "source": [
        "#Create the training data set\n",
        "#Create the scaled training data set\n",
        "\n",
        "train_data = scaled_data[0:training_data_len, :]\n",
        "#split the data into x_train and y_train data set\n",
        "\n",
        "x_train = []\n",
        "y_train = []\n",
        "\n",
        "for i in range(100, len(train_data)):\n",
        "  x_train.append(train_data[i-100:i,0])\n",
        "  y_train.append(train_data[i,0])\n",
        "  if i<=101:\n",
        "    print(x_train)\n",
        "    print(y_train)\n",
        "    print()"
      ],
      "execution_count": 0,
      "outputs": [
        {
          "output_type": "stream",
          "text": [
            "[array([0.01316509, 0.01457064, 0.01748985, 0.02026915, 0.01984303,\n",
            "       0.02080338, 0.02036454, 0.01962679, 0.01862193, 0.02173194,\n",
            "       0.02453668, 0.02367172, 0.01893356, 0.02345548, 0.01900352,\n",
            "       0.03569838, 0.03440731, 0.0360927 , 0.03973694, 0.04194384,\n",
            "       0.0417594 , 0.0410789 , 0.04397903, 0.04670744, 0.04979839,\n",
            "       0.05479095, 0.0652785 , 0.06543749, 0.07127594, 0.07563885,\n",
            "       0.06814046, 0.07102789, 0.07097066, 0.07906688, 0.07791571,\n",
            "       0.08004628, 0.08387497, 0.08600558, 0.09214292, 0.09661397,\n",
            "       0.09790501, 0.09835659, 0.09071194, 0.08886753, 0.08914103,\n",
            "       0.09632775, 0.09835024, 0.10269405, 0.11293358, 0.12659476,\n",
            "       0.12403805, 0.1240444 , 0.13392141, 0.13701233, 0.13481179,\n",
            "       0.13280207, 0.13070964, 0.13766105, 0.14243103, 0.14442805,\n",
            "       0.13949272, 0.13293563, 0.14507041, 0.15186917, 0.14868284,\n",
            "       0.15464211, 0.1562639 , 0.15130952, 0.14988489, 0.14770341,\n",
            "       0.13654806, 0.12058461, 0.13939096, 0.13852602, 0.12523371,\n",
            "       0.11603724, 0.11522315, 0.10796011, 0.13958178, 0.13811897,\n",
            "       0.13512982, 0.12303317, 0.1218566 , 0.12430516, 0.12165943,\n",
            "       0.111121  , 0.11381126, 0.11298446, 0.11362047, 0.11447267,\n",
            "       0.11204956, 0.10664995, 0.10343818, 0.09892898, 0.08877851,\n",
            "       0.08894386, 0.10859608, 0.10585498, 0.11449811, 0.11116553])]\n",
            "[0.10923844534122418]\n",
            "\n",
            "[array([0.01316509, 0.01457064, 0.01748985, 0.02026915, 0.01984303,\n",
            "       0.02080338, 0.02036454, 0.01962679, 0.01862193, 0.02173194,\n",
            "       0.02453668, 0.02367172, 0.01893356, 0.02345548, 0.01900352,\n",
            "       0.03569838, 0.03440731, 0.0360927 , 0.03973694, 0.04194384,\n",
            "       0.0417594 , 0.0410789 , 0.04397903, 0.04670744, 0.04979839,\n",
            "       0.05479095, 0.0652785 , 0.06543749, 0.07127594, 0.07563885,\n",
            "       0.06814046, 0.07102789, 0.07097066, 0.07906688, 0.07791571,\n",
            "       0.08004628, 0.08387497, 0.08600558, 0.09214292, 0.09661397,\n",
            "       0.09790501, 0.09835659, 0.09071194, 0.08886753, 0.08914103,\n",
            "       0.09632775, 0.09835024, 0.10269405, 0.11293358, 0.12659476,\n",
            "       0.12403805, 0.1240444 , 0.13392141, 0.13701233, 0.13481179,\n",
            "       0.13280207, 0.13070964, 0.13766105, 0.14243103, 0.14442805,\n",
            "       0.13949272, 0.13293563, 0.14507041, 0.15186917, 0.14868284,\n",
            "       0.15464211, 0.1562639 , 0.15130952, 0.14988489, 0.14770341,\n",
            "       0.13654806, 0.12058461, 0.13939096, 0.13852602, 0.12523371,\n",
            "       0.11603724, 0.11522315, 0.10796011, 0.13958178, 0.13811897,\n",
            "       0.13512982, 0.12303317, 0.1218566 , 0.12430516, 0.12165943,\n",
            "       0.111121  , 0.11381126, 0.11298446, 0.11362047, 0.11447267,\n",
            "       0.11204956, 0.10664995, 0.10343818, 0.09892898, 0.08877851,\n",
            "       0.08894386, 0.10859608, 0.10585498, 0.11449811, 0.11116553]), array([0.01457064, 0.01748985, 0.02026915, 0.01984303, 0.02080338,\n",
            "       0.02036454, 0.01962679, 0.01862193, 0.02173194, 0.02453668,\n",
            "       0.02367172, 0.01893356, 0.02345548, 0.01900352, 0.03569838,\n",
            "       0.03440731, 0.0360927 , 0.03973694, 0.04194384, 0.0417594 ,\n",
            "       0.0410789 , 0.04397903, 0.04670744, 0.04979839, 0.05479095,\n",
            "       0.0652785 , 0.06543749, 0.07127594, 0.07563885, 0.06814046,\n",
            "       0.07102789, 0.07097066, 0.07906688, 0.07791571, 0.08004628,\n",
            "       0.08387497, 0.08600558, 0.09214292, 0.09661397, 0.09790501,\n",
            "       0.09835659, 0.09071194, 0.08886753, 0.08914103, 0.09632775,\n",
            "       0.09835024, 0.10269405, 0.11293358, 0.12659476, 0.12403805,\n",
            "       0.1240444 , 0.13392141, 0.13701233, 0.13481179, 0.13280207,\n",
            "       0.13070964, 0.13766105, 0.14243103, 0.14442805, 0.13949272,\n",
            "       0.13293563, 0.14507041, 0.15186917, 0.14868284, 0.15464211,\n",
            "       0.1562639 , 0.15130952, 0.14988489, 0.14770341, 0.13654806,\n",
            "       0.12058461, 0.13939096, 0.13852602, 0.12523371, 0.11603724,\n",
            "       0.11522315, 0.10796011, 0.13958178, 0.13811897, 0.13512982,\n",
            "       0.12303317, 0.1218566 , 0.12430516, 0.12165943, 0.111121  ,\n",
            "       0.11381126, 0.11298446, 0.11362047, 0.11447267, 0.11204956,\n",
            "       0.10664995, 0.10343818, 0.09892898, 0.08877851, 0.08894386,\n",
            "       0.10859608, 0.10585498, 0.11449811, 0.11116553, 0.10923845])]\n",
            "[0.10923844534122418, 0.11558566539293841]\n",
            "\n"
          ],
          "name": "stdout"
        }
      ]
    },
    {
      "cell_type": "code",
      "metadata": {
        "id": "tx6oFlPsk3GQ",
        "colab_type": "code",
        "colab": {}
      },
      "source": [
        "# convert the x_train and y_train to numpy arrays\n",
        "\n",
        "x_train , y_train = np.array(x_train), np.array(y_train)"
      ],
      "execution_count": 0,
      "outputs": []
    },
    {
      "cell_type": "code",
      "metadata": {
        "id": "X82wihIJlHKY",
        "colab_type": "code",
        "outputId": "6d751c8c-c1a7-4f4b-d186-4acc40bfa5a2",
        "colab": {
          "base_uri": "https://localhost:8080/",
          "height": 35
        }
      },
      "source": [
        "x_train = np.reshape(x_train, (x_train.shape[0],x_train.shape[1],1))\n",
        "x_train.shape"
      ],
      "execution_count": 0,
      "outputs": [
        {
          "output_type": "execute_result",
          "data": {
            "text/plain": [
              "(1503, 100, 1)"
            ]
          },
          "metadata": {
            "tags": []
          },
          "execution_count": 10
        }
      ]
    },
    {
      "cell_type": "code",
      "metadata": {
        "id": "_zEEmQHzlvB1",
        "colab_type": "code",
        "outputId": "c731ef8b-3f1d-43ad-986d-50ec7d62d97a",
        "colab": {
          "base_uri": "https://localhost:8080/",
          "height": 147
        }
      },
      "source": [
        "# build the LSTm model\n",
        "model = Sequential()\n",
        "model.add(LSTM(250, return_sequences=True, input_shape=(x_train.shape[1],1)))\n",
        "model.add(LSTM(100, return_sequences=True))\n",
        "model.add(LSTM(50, return_sequences= False))\n",
        "model.add(Dense(25))\n",
        "model.add(Dense(1))"
      ],
      "execution_count": 0,
      "outputs": [
        {
          "output_type": "stream",
          "text": [
            "WARNING:tensorflow:From /usr/local/lib/python3.6/dist-packages/keras/backend/tensorflow_backend.py:66: The name tf.get_default_graph is deprecated. Please use tf.compat.v1.get_default_graph instead.\n",
            "\n",
            "WARNING:tensorflow:From /usr/local/lib/python3.6/dist-packages/keras/backend/tensorflow_backend.py:541: The name tf.placeholder is deprecated. Please use tf.compat.v1.placeholder instead.\n",
            "\n",
            "WARNING:tensorflow:From /usr/local/lib/python3.6/dist-packages/keras/backend/tensorflow_backend.py:4432: The name tf.random_uniform is deprecated. Please use tf.random.uniform instead.\n",
            "\n"
          ],
          "name": "stdout"
        }
      ]
    },
    {
      "cell_type": "code",
      "metadata": {
        "id": "3k94n1PmmWjN",
        "colab_type": "code",
        "outputId": "83debfcf-05da-471b-b90f-92c26ca54606",
        "colab": {
          "base_uri": "https://localhost:8080/",
          "height": 74
        }
      },
      "source": [
        "#Compile the model\n",
        "\n",
        "model.compile(optimizer='adam', loss='mean_squared_error')"
      ],
      "execution_count": 0,
      "outputs": [
        {
          "output_type": "stream",
          "text": [
            "WARNING:tensorflow:From /usr/local/lib/python3.6/dist-packages/keras/optimizers.py:793: The name tf.train.Optimizer is deprecated. Please use tf.compat.v1.train.Optimizer instead.\n",
            "\n"
          ],
          "name": "stdout"
        }
      ]
    },
    {
      "cell_type": "code",
      "metadata": {
        "id": "NFj9zF27mgYL",
        "colab_type": "code",
        "outputId": "f815f270-ea27-4e2d-86bc-f581937d5962",
        "colab": {
          "base_uri": "https://localhost:8080/",
          "height": 1000
        }
      },
      "source": [
        "# Train the model\n",
        "\n",
        "_reg = model.fit(x_train, y_train, batch_size =32 , epochs = 50)"
      ],
      "execution_count": 0,
      "outputs": [
        {
          "output_type": "stream",
          "text": [
            "WARNING:tensorflow:From /usr/local/lib/python3.6/dist-packages/tensorflow_core/python/ops/math_grad.py:1424: where (from tensorflow.python.ops.array_ops) is deprecated and will be removed in a future version.\n",
            "Instructions for updating:\n",
            "Use tf.where in 2.0, which has the same broadcast rule as np.where\n",
            "WARNING:tensorflow:From /usr/local/lib/python3.6/dist-packages/keras/backend/tensorflow_backend.py:1033: The name tf.assign_add is deprecated. Please use tf.compat.v1.assign_add instead.\n",
            "\n",
            "WARNING:tensorflow:From /usr/local/lib/python3.6/dist-packages/keras/backend/tensorflow_backend.py:1020: The name tf.assign is deprecated. Please use tf.compat.v1.assign instead.\n",
            "\n",
            "WARNING:tensorflow:From /usr/local/lib/python3.6/dist-packages/keras/backend/tensorflow_backend.py:3005: The name tf.Session is deprecated. Please use tf.compat.v1.Session instead.\n",
            "\n",
            "Epoch 1/50\n",
            "WARNING:tensorflow:From /usr/local/lib/python3.6/dist-packages/keras/backend/tensorflow_backend.py:190: The name tf.get_default_session is deprecated. Please use tf.compat.v1.get_default_session instead.\n",
            "\n",
            "WARNING:tensorflow:From /usr/local/lib/python3.6/dist-packages/keras/backend/tensorflow_backend.py:197: The name tf.ConfigProto is deprecated. Please use tf.compat.v1.ConfigProto instead.\n",
            "\n",
            "WARNING:tensorflow:From /usr/local/lib/python3.6/dist-packages/keras/backend/tensorflow_backend.py:207: The name tf.global_variables is deprecated. Please use tf.compat.v1.global_variables instead.\n",
            "\n",
            "WARNING:tensorflow:From /usr/local/lib/python3.6/dist-packages/keras/backend/tensorflow_backend.py:216: The name tf.is_variable_initialized is deprecated. Please use tf.compat.v1.is_variable_initialized instead.\n",
            "\n",
            "WARNING:tensorflow:From /usr/local/lib/python3.6/dist-packages/keras/backend/tensorflow_backend.py:223: The name tf.variables_initializer is deprecated. Please use tf.compat.v1.variables_initializer instead.\n",
            "\n",
            "1503/1503 [==============================] - 28s 19ms/step - loss: 0.0052\n",
            "Epoch 2/50\n",
            "1503/1503 [==============================] - 26s 17ms/step - loss: 4.2586e-04\n",
            "Epoch 3/50\n",
            "1503/1503 [==============================] - 26s 17ms/step - loss: 4.0216e-04\n",
            "Epoch 4/50\n",
            "1503/1503 [==============================] - 26s 17ms/step - loss: 3.5869e-04\n",
            "Epoch 5/50\n",
            "1503/1503 [==============================] - 26s 18ms/step - loss: 3.6306e-04\n",
            "Epoch 6/50\n",
            "1503/1503 [==============================] - 26s 17ms/step - loss: 3.3010e-04\n",
            "Epoch 7/50\n",
            "1503/1503 [==============================] - 26s 17ms/step - loss: 2.9741e-04\n",
            "Epoch 8/50\n",
            "1503/1503 [==============================] - 26s 17ms/step - loss: 2.8749e-04\n",
            "Epoch 9/50\n",
            "1503/1503 [==============================] - 27s 18ms/step - loss: 3.5647e-04\n",
            "Epoch 10/50\n",
            "1503/1503 [==============================] - 26s 17ms/step - loss: 3.3211e-04\n",
            "Epoch 11/50\n",
            "1503/1503 [==============================] - 26s 17ms/step - loss: 2.6221e-04\n",
            "Epoch 12/50\n",
            "1503/1503 [==============================] - 26s 17ms/step - loss: 2.5399e-04\n",
            "Epoch 13/50\n",
            "1503/1503 [==============================] - 26s 17ms/step - loss: 2.8929e-04\n",
            "Epoch 14/50\n",
            "1503/1503 [==============================] - 26s 17ms/step - loss: 2.4574e-04\n",
            "Epoch 15/50\n",
            "1503/1503 [==============================] - 26s 17ms/step - loss: 1.9618e-04\n",
            "Epoch 16/50\n",
            "1503/1503 [==============================] - 26s 18ms/step - loss: 1.8264e-04\n",
            "Epoch 17/50\n",
            "1503/1503 [==============================] - 26s 18ms/step - loss: 1.9562e-04\n",
            "Epoch 18/50\n",
            "1503/1503 [==============================] - 26s 17ms/step - loss: 1.5856e-04\n",
            "Epoch 19/50\n",
            "1503/1503 [==============================] - 26s 18ms/step - loss: 1.6921e-04\n",
            "Epoch 20/50\n",
            "1503/1503 [==============================] - 26s 17ms/step - loss: 1.4704e-04\n",
            "Epoch 21/50\n",
            "1503/1503 [==============================] - 27s 18ms/step - loss: 1.6320e-04\n",
            "Epoch 22/50\n",
            "1503/1503 [==============================] - 26s 18ms/step - loss: 1.7740e-04\n",
            "Epoch 23/50\n",
            "1503/1503 [==============================] - 27s 18ms/step - loss: 1.4790e-04\n",
            "Epoch 24/50\n",
            "1503/1503 [==============================] - 26s 17ms/step - loss: 1.5934e-04\n",
            "Epoch 25/50\n",
            "1503/1503 [==============================] - 26s 18ms/step - loss: 1.4388e-04\n",
            "Epoch 26/50\n",
            "1503/1503 [==============================] - 27s 18ms/step - loss: 1.2672e-04\n",
            "Epoch 27/50\n",
            "1503/1503 [==============================] - 26s 18ms/step - loss: 1.5683e-04\n",
            "Epoch 28/50\n",
            "1503/1503 [==============================] - 26s 18ms/step - loss: 1.2788e-04\n",
            "Epoch 29/50\n",
            "1503/1503 [==============================] - 26s 18ms/step - loss: 1.0883e-04\n",
            "Epoch 30/50\n",
            "1503/1503 [==============================] - 26s 18ms/step - loss: 1.1044e-04\n",
            "Epoch 31/50\n",
            "1503/1503 [==============================] - 26s 17ms/step - loss: 1.3015e-04\n",
            "Epoch 32/50\n",
            "1503/1503 [==============================] - 27s 18ms/step - loss: 1.2527e-04\n",
            "Epoch 33/50\n",
            "1503/1503 [==============================] - 26s 17ms/step - loss: 1.0024e-04\n",
            "Epoch 34/50\n",
            "1503/1503 [==============================] - 26s 18ms/step - loss: 9.1765e-05\n",
            "Epoch 35/50\n",
            "1503/1503 [==============================] - 27s 18ms/step - loss: 9.5005e-05\n",
            "Epoch 36/50\n",
            "1503/1503 [==============================] - 26s 18ms/step - loss: 1.2225e-04\n",
            "Epoch 37/50\n",
            "1503/1503 [==============================] - 26s 17ms/step - loss: 9.6097e-05\n",
            "Epoch 38/50\n",
            "1503/1503 [==============================] - 26s 18ms/step - loss: 9.5445e-05\n",
            "Epoch 39/50\n",
            "1503/1503 [==============================] - 26s 17ms/step - loss: 9.6512e-05\n",
            "Epoch 40/50\n",
            "1503/1503 [==============================] - 26s 17ms/step - loss: 1.0184e-04\n",
            "Epoch 41/50\n",
            "1503/1503 [==============================] - 26s 18ms/step - loss: 7.9448e-05\n",
            "Epoch 42/50\n",
            "1503/1503 [==============================] - 26s 18ms/step - loss: 8.7610e-05\n",
            "Epoch 43/50\n",
            "1503/1503 [==============================] - 26s 17ms/step - loss: 9.1490e-05\n",
            "Epoch 44/50\n",
            "1503/1503 [==============================] - 27s 18ms/step - loss: 9.8866e-05\n",
            "Epoch 45/50\n",
            "1503/1503 [==============================] - 26s 18ms/step - loss: 9.9630e-05\n",
            "Epoch 46/50\n",
            "1503/1503 [==============================] - 26s 17ms/step - loss: 9.1640e-05\n",
            "Epoch 47/50\n",
            "1503/1503 [==============================] - 27s 18ms/step - loss: 8.5099e-05\n",
            "Epoch 48/50\n",
            "1503/1503 [==============================] - 26s 18ms/step - loss: 6.7417e-05\n",
            "Epoch 49/50\n",
            "1503/1503 [==============================] - 26s 17ms/step - loss: 7.6184e-05\n",
            "Epoch 50/50\n",
            "1503/1503 [==============================] - 26s 18ms/step - loss: 7.5904e-05\n"
          ],
          "name": "stdout"
        }
      ]
    },
    {
      "cell_type": "code",
      "metadata": {
        "id": "vyukdkYuHbD1",
        "colab_type": "code",
        "outputId": "ba5f0b08-9ae5-404f-9abe-23c326e8288d",
        "colab": {
          "base_uri": "https://localhost:8080/"
        }
      },
      "source": [
        "%matplotlib inline\n",
        "\n",
        "def plot_history(network_history):\n",
        "    plt.figure()\n",
        "    plt.xlabel('Epochs')\n",
        "    plt.ylabel('Loss')\n",
        "    plt.plot(network_history.history['loss'] , color='black', lw=2)\n",
        "    plt.legend(['Training'])\n",
        "\n",
        "plot_history(_reg)"
      ],
      "execution_count": 0,
      "outputs": [
        {
          "output_type": "display_data",
          "data": {
            "image/png": "[encoded data removed]",
            "text/plain": [
              "<Figure size 432x288 with 1 Axes>"
            ]
          },
          "metadata": {
            "tags": []
          }
        }
      ]
    },
    {
      "cell_type": "code",
      "metadata": {
        "id": "oVfjhO41oY71",
        "colab_type": "code",
        "colab": {}
      },
      "source": [
        "#Create the testing data set\n",
        "#Create a new array containing scaled values from index 1453 to 2003\n",
        "test_data = scaled_data[training_data_len - 100 : , :]\n",
        "# Create the data set x_test and y_test\n",
        "x_test = []\n",
        "y_test = dataset[training_data_len: , :]\n",
        "for i in range(100, len(test_data)):\n",
        "  x_test.append(test_data[i-100:i, 0])"
      ],
      "execution_count": 0,
      "outputs": []
    },
    {
      "cell_type": "code",
      "metadata": {
        "id": "zhs7f1r4pZA7",
        "colab_type": "code",
        "colab": {}
      },
      "source": [
        "#convert the data to a numy array\n",
        "x_test = np.array(x_test)"
      ],
      "execution_count": 0,
      "outputs": []
    },
    {
      "cell_type": "code",
      "metadata": {
        "id": "vJXMSgT8piIi",
        "colab_type": "code",
        "colab": {}
      },
      "source": [
        "# reshape the data\n",
        "x_test = np.reshape(x_test,(x_test.shape[0], x_test.shape[1], 1))\n"
      ],
      "execution_count": 0,
      "outputs": []
    },
    {
      "cell_type": "code",
      "metadata": {
        "id": "XWvrGen_p7vQ",
        "colab_type": "code",
        "colab": {}
      },
      "source": [
        "# get the  odels predicted values\n",
        "predictions = model.predict(x_test)\n",
        "predictions = scaler.inverse_transform(predictions)"
      ],
      "execution_count": 0,
      "outputs": []
    },
    {
      "cell_type": "code",
      "metadata": {
        "id": "RdB7GFnmqLF6",
        "colab_type": "code",
        "outputId": "d5248e97-7576-4220-8105-32654dd5a5d3",
        "colab": {
          "base_uri": "https://localhost:8080/"
        }
      },
      "source": [
        "#Get the root mean squared error (RMSE)\n",
        "rmse = np.sqrt(np.mean((predictions - y_test)**2))\n",
        "rmse"
      ],
      "execution_count": 0,
      "outputs": [
        {
          "output_type": "execute_result",
          "data": {
            "text/plain": [
              "5.596405296623455"
            ]
          },
          "metadata": {
            "tags": []
          },
          "execution_count": 19
        }
      ]
    },
    {
      "cell_type": "code",
      "metadata": {
        "id": "cJVfwlCNqeeP",
        "colab_type": "code",
        "outputId": "a545b843-8544-456e-8b1c-14f8056ac0c9",
        "colab": {
          "base_uri": "https://localhost:8080/",
          "height": 628
        }
      },
      "source": [
        "#plot the data\n",
        "train = data[:training_data_len]\n",
        "valid = data[training_data_len:]\n",
        "valid['Predictions'] = predictions\n",
        "#visualize the data\n",
        "plt.figure(figsize=(16,8))\n",
        "plt.title('Model')\n",
        "plt.xlabel('Date', fontsize=18)\n",
        "plt.ylabel('Close Price USD ($)', fontsize=18)\n",
        "plt.plot(train['Close'])\n",
        "plt.plot(valid[['Close', 'Predictions']])\n",
        "plt.legend(['Train', 'Val', 'Predictions'], loc='lower right')\n",
        "plt.show()"
      ],
      "execution_count": 0,
      "outputs": [
        {
          "output_type": "stream",
          "text": [
            "/usr/local/lib/python3.6/dist-packages/ipykernel_launcher.py:3: SettingWithCopyWarning: \n",
            "A value is trying to be set on a copy of a slice from a DataFrame.\n",
            "Try using .loc[row_indexer,col_indexer] = value instead\n",
            "\n",
            "See the caveats in the documentation: http://pandas.pydata.org/pandas-docs/stable/user_guide/indexing.html#returning-a-view-versus-a-copy\n",
            "  This is separate from the ipykernel package so we can avoid doing imports until\n"
          ],
          "name": "stderr"
        },
        {
          "output_type": "display_data",
          "data": {
            "image/png": "[encoded data removed]",
            "text/plain": [
              "<Figure size 1152x576 with 1 Axes>"
            ]
          },
          "metadata": {
            "tags": []
          }
        }
      ]
    },
    {
      "cell_type": "code",
      "metadata": {
        "id": "5Jkmwb5CqeCz",
        "colab_type": "code",
        "outputId": "0c2460a9-7432-438e-f2c3-bc9da8e65b4f",
        "colab": {
          "base_uri": "https://localhost:8080/"
        }
      },
      "source": [
        "# show the valid predicted prices\n",
        "valid"
      ],
      "execution_count": 0,
      "outputs": [
        {
          "output_type": "execute_result",
          "data": {
            "text/html": [
              "<div>\n",
              "<style scoped>\n",
              "    .dataframe tbody tr th:only-of-type {\n",
              "        vertical-align: middle;\n",
              "    }\n",
              "\n",
              "    .dataframe tbody tr th {\n",
              "        vertical-align: top;\n",
              "    }\n",
              "\n",
              "    .dataframe thead th {\n",
              "        text-align: right;\n",
              "    }\n",
              "</style>\n",
              "<table border=\"1\" class=\"dataframe\">\n",
              "  <thead>\n",
              "    <tr style=\"text-align: right;\">\n",
              "      <th></th>\n",
              "      <th>Close</th>\n",
              "      <th>Predictions</th>\n",
              "    </tr>\n",
              "    <tr>\n",
              "      <th>Date</th>\n",
              "      <th></th>\n",
              "      <th></th>\n",
              "    </tr>\n",
              "  </thead>\n",
              "  <tbody>\n",
              "    <tr>\n",
              "      <th>2018-05-17</th>\n",
              "      <td>186.990005</td>\n",
              "      <td>192.050690</td>\n",
              "    </tr>\n",
              "    <tr>\n",
              "      <th>2018-05-18</th>\n",
              "      <td>186.309998</td>\n",
              "      <td>191.135193</td>\n",
              "    </tr>\n",
              "    <tr>\n",
              "      <th>2018-05-21</th>\n",
              "      <td>187.630005</td>\n",
              "      <td>190.223236</td>\n",
              "    </tr>\n",
              "    <tr>\n",
              "      <th>2018-05-22</th>\n",
              "      <td>187.160004</td>\n",
              "      <td>191.681076</td>\n",
              "    </tr>\n",
              "    <tr>\n",
              "      <th>2018-05-23</th>\n",
              "      <td>188.360001</td>\n",
              "      <td>191.353989</td>\n",
              "    </tr>\n",
              "    <tr>\n",
              "      <th>...</th>\n",
              "      <td>...</td>\n",
              "      <td>...</td>\n",
              "    </tr>\n",
              "    <tr>\n",
              "      <th>2019-12-11</th>\n",
              "      <td>270.769989</td>\n",
              "      <td>273.228729</td>\n",
              "    </tr>\n",
              "    <tr>\n",
              "      <th>2019-12-12</th>\n",
              "      <td>271.459991</td>\n",
              "      <td>275.998199</td>\n",
              "    </tr>\n",
              "    <tr>\n",
              "      <th>2019-12-13</th>\n",
              "      <td>275.149994</td>\n",
              "      <td>276.365997</td>\n",
              "    </tr>\n",
              "    <tr>\n",
              "      <th>2019-12-16</th>\n",
              "      <td>279.859985</td>\n",
              "      <td>281.186462</td>\n",
              "    </tr>\n",
              "    <tr>\n",
              "      <th>2019-12-17</th>\n",
              "      <td>280.410004</td>\n",
              "      <td>286.374023</td>\n",
              "    </tr>\n",
              "  </tbody>\n",
              "</table>\n",
              "<p>400 rows × 2 columns</p>\n",
              "</div>"
            ],
            "text/plain": [
              "                 Close  Predictions\n",
              "Date                               \n",
              "2018-05-17  186.990005   192.050690\n",
              "2018-05-18  186.309998   191.135193\n",
              "2018-05-21  187.630005   190.223236\n",
              "2018-05-22  187.160004   191.681076\n",
              "2018-05-23  188.360001   191.353989\n",
              "...                ...          ...\n",
              "2019-12-11  270.769989   273.228729\n",
              "2019-12-12  271.459991   275.998199\n",
              "2019-12-13  275.149994   276.365997\n",
              "2019-12-16  279.859985   281.186462\n",
              "2019-12-17  280.410004   286.374023\n",
              "\n",
              "[400 rows x 2 columns]"
            ]
          },
          "metadata": {
            "tags": []
          },
          "execution_count": 21
        }
      ]
    },
    {
      "cell_type": "code",
      "metadata": {
        "id": "Mi63Tnu6fsTm",
        "colab_type": "code",
        "outputId": "9a25c3a1-02bd-420d-942f-c7acd556d07b",
        "colab": {
          "base_uri": "https://localhost:8080/"
        }
      },
      "source": [
        "# get the quote\n",
        "apple_quote = web.DataReader('AAPL', data_source='yahoo', start='2012-01-01', end='2020-01-01')\n",
        "# create a new data frame\n",
        "new_df = apple_quote.filter(['Close'])\n",
        "# get the last 100 day closing price values and convert the dataframe to an array\n",
        "last_100_days = new_df[-100:].values\n",
        "#scale the data to be values between 0\n",
        "last_100_days_scaled = scaler.transform(last_100_days)\n",
        "#Create an empty list\n",
        "X_test = []\n",
        "#append the past 100 days\n",
        "X_test.append(last_100_days_scaled)\n",
        "#Covert the X-test data set to a numpy array\n",
        "X_test = np.array(X_test)\n",
        "#Reshape the data\n",
        "X_test = np.reshape(X_test, (X_test.shape[0], X_test.shape[1],1))\n",
        "# Get the predicted scaled price\n",
        "pred_price = model.predict(X_test)\n",
        "# undo the scaling\n",
        "pred_price = scaler.inverse_transform(pred_price)\n",
        "print(pred_price)"
      ],
      "execution_count": 0,
      "outputs": [
        {
          "output_type": "stream",
          "text": [
            "[[298.0948]]\n"
          ],
          "name": "stdout"
        }
      ]
    },
    {
      "cell_type": "code",
      "metadata": {
        "id": "JyldnM-lzlsH",
        "colab_type": "code",
        "outputId": "be38a251-7361-40ae-dba3-b6e3e23a41d2",
        "colab": {
          "base_uri": "https://localhost:8080/"
        }
      },
      "source": [
        "# get the quote\n",
        "apple_quote2 = web.DataReader('AAPL', data_source='yahoo', start='2020-01-02', end='2020-01-02')\n",
        "print(apple_quote2['Close'])"
      ],
      "execution_count": 0,
      "outputs": [
        {
          "output_type": "stream",
          "text": [
            "Date\n",
            "2020-01-02    300.350006\n",
            "Name: Close, dtype: float64\n"
          ],
          "name": "stdout"
        }
      ]
    }
  ]
}